{
 "cells": [
  {
   "cell_type": "markdown",
   "metadata": {},
   "source": [
    "# GeoPath Clustering Algorithm"
   ]
  },
  {
   "cell_type": "markdown",
   "metadata": {},
   "source": [
    "The idea here is to cluster geo paths that travel very similar to each other into groups.\n",
    "\n",
    "Steps:\n",
    "\n",
    "1- Cluster lines based on slope\n",
    "\n",
    "2- Within each cluster from step 1, find centriod of lines and by using k-mean algorithm cluster them into smaller groups\n",
    "\n",
    "3- Within each geoup from step 2, calculate lenght of each line and group lines within defined length threshold\n",
    "\n",
    "Result will be small groups of lines that have similar slope, close to each other and with similar travel distance."
   ]
  },
  {
   "cell_type": "markdown",
   "metadata": {},
   "source": [
    "### 1- import necessary libraries"
   ]
  },
  {
   "cell_type": "code",
   "execution_count": 7,
   "metadata": {
    "collapsed": false
   },
   "outputs": [
    {
     "name": "stderr",
     "output_type": "stream",
     "text": [
      "/Users/MBoustani/anaconda/lib/python2.7/site-packages/matplotlib/font_manager.py:273: UserWarning: Matplotlib is building the font cache using fc-list. This may take a moment.\n",
      "  warnings.warn('Matplotlib is building the font cache using fc-list. This may take a moment.')\n"
     ]
    }
   ],
   "source": [
    "%matplotlib inline\n",
    "import matplotlib\n",
    "import matplotlib.pyplot as plt\n",
    "import numpy as np\n",
    "from scipy.cluster.vq import kmeans, vq\n",
    "import math"
   ]
  },
  {
   "cell_type": "markdown",
   "metadata": {},
   "source": [
    "### 2- Add data point as list of [start point, end-point , info (in this case phone number)]"
   ]
  },
  {
   "cell_type": "code",
   "execution_count": 8,
   "metadata": {
    "collapsed": false
   },
   "outputs": [],
   "source": [
    "list_of_points =[[[44.92385404168749, -121.8822916666875], [36.00678722320982, -107.49057536905804], 'phone_number'], [[25.7833333333, -80.2166666667], [25.7833333333, -80.2166666667], 'phone_number'], [[-27.3755388889, 153.0053888889], [-27.3978888889, 153.0438888889], 'phone_number'], [[40.52272727272727, -111.8136363636091], [33.5283333333, -112.0763888889], 'phone_number'], [[43.8135721111, -79.30011375595893], [43.837452000000006, -79.40192233333333], 'phone_number'], [[47.6588888889, -117.5], [47.6588888889, -117.5], 'phone_number'], [[25.771666666639998, -80.23066666669999], [25.733333333333334, -80.2814814815], 'phone_number'], [[45.368289, -80.78226675], [43.557252, -79.50515566666667], 'phone_number'], [[33.7569444444, -84.3902777778], [33.47, -81.975], 'phone_number'], [[50.08861111110001, 14.421388888900001], [50.0886111111, 14.4213888889], 'phone_number'], [[39.7391666667, -104.9847222222], [39.7391666667, -104.9847222222], 'phone_number'], [[32.541675000025, -80.45125], [30.316666666700005, -81.64999999999999], 'phone_number'], [[34.837500000025, -106.46250000002499], [34.247853055549996, -118.5315552778], 'phone_number'], [[42.2458333333, -84.4013888889], [32.2988888889, -90.1847222222], 'phone_number'], [[45.4166666667, -75.7], [43.82264255556667, -79.09342677776667], 'phone_number'], [[39.5272222222, -119.8219444444], [39.36055555553333, -118.8525], 'phone_number'], [[40.7667638888875, -74.12038055556249], [40.71361744443334, -73.92897471297499], 'phone_number'], [[33.5677083333, -84.16770833335], [33.62177579361429, -84.23129960319285], 'phone_number'], [[38.804722219999995, -76.48444400000001], [37.15036566665, -76.87703583334999], 'phone_number'], [[34.0005555556, -81.0441666667], [33.99650462966667, -81.04888888891665], 'phone_number']]"
   ]
  },
  {
   "cell_type": "markdown",
   "metadata": {},
   "source": [
    "### 3- Calculate slope, centroid and length for each line and store them in a dictionary of points_dict"
   ]
  },
  {
   "cell_type": "code",
   "execution_count": 9,
   "metadata": {
    "collapsed": false
   },
   "outputs": [
    {
     "data": {
      "image/png": "[encoded data removed]",
      "text/plain": [
       "<matplotlib.figure.Figure at 0x10a11bb50>"
      ]
     },
     "metadata": {},
     "output_type": "display_data"
    }
   ],
   "source": [
    "points_dict = {}\n",
    "for i, set_point in enumerate(list_of_points):\n",
    "    try:\n",
    "        slope = np.degrees(np.arctan(float((set_point[0][1] - set_point[1][1])) / float((set_point[0][0] - set_point[1][0]))))\n",
    "        slope = [slope if slope > 0 else 360 + slope][0]\n",
    "        center = float((set_point[0][0] + set_point[1][0]))/2, float((set_point[0][1] + set_point[1][1]))/2\n",
    "        length = math.sqrt( (set_point[1][0] - set_point[0][0])**2 + (set_point[1][1] - set_point[0][1])**2 )\n",
    "        \n",
    "        #store slope, centroid, length and info into python dictionary\n",
    "        points_dict[i] = [set_point[0], set_point[1]] + [slope, center, length] + [set_point[2]]\n",
    "\n",
    "        #draw points\n",
    "        plt.plot(set_point[0][0],set_point[0][1], 'ob')\n",
    "        plt.plot(set_point[1][0],set_point[1][1], 'ob')\n",
    "\n",
    "        #draw line\n",
    "        plt.plot([set_point[0][0] , set_point[1][0]], [set_point[0][1], set_point[1][1]])\n",
    "    except:\n",
    "        pass\n",
    "\n",
    "plt.show()"
   ]
  },
  {
   "cell_type": "markdown",
   "metadata": {},
   "source": [
    "### 4- Cluster lines by slope, threshold is set to 10 degree"
   ]
  },
  {
   "cell_type": "code",
   "execution_count": 13,
   "metadata": {
    "collapsed": false
   },
   "outputs": [
    {
     "name": "stdout",
     "output_type": "stream",
     "text": [
      "Sloped grouped.\n",
      "[set([9, 18]), set([11, 13]), set([19]), set([6]), set([14]), set([12]), set([8]), set([15]), set([4]), set([16]), set([2]), set([0]), set([17]), set([7])]\n"
     ]
    }
   ],
   "source": [
    "def slope_grouper(data):\n",
    "    '''\n",
    "    This function can cluster lines based on their slope with in defined threshold.\n",
    "    '''\n",
    "    first_point = data[0]\n",
    "    threshold = 10  ## This can be changed for better results\n",
    "    results = {}\n",
    "    i = 0\n",
    "    for each in data[1:]:\n",
    "        if each < (first_point + threshold) and each > first_point:\n",
    "            results.setdefault(i,[]).append(each)\n",
    "        else:\n",
    "            i = i + 1 \n",
    "            results.setdefault(i,[]).append(each)\n",
    "            first_point = first_point + threshold\n",
    "    return results\n",
    "\n",
    "slope_groups = []\n",
    "all_slopes = []\n",
    "for p in points_dict:\n",
    "    all_slopes.append(points_dict[p][2])\n",
    "all_slopes = sorted(all_slopes)\n",
    "solpe_centroids = slope_grouper(all_slopes)\n",
    "\n",
    "for each in solpe_centroids:\n",
    "    slopes = solpe_centroids[each]\n",
    "    t = []\n",
    "    for s in slopes:\n",
    "        for d in points_dict:\n",
    "            if points_dict[d][2] == s:\n",
    "                t.append(d)\n",
    "    slope_groups.append(set(t))\n",
    "\n",
    "print \"Sloped grouped.\"\n",
    "print slope_groups"
   ]
  },
  {
   "cell_type": "markdown",
   "metadata": {},
   "source": [
    "### 5- Within each group from previous step, find the lines and cluster them together using k-mean on lines centroid"
   ]
  },
  {
   "cell_type": "code",
   "execution_count": 17,
   "metadata": {
    "collapsed": false
   },
   "outputs": [
    {
     "name": "stdout",
     "output_type": "stream",
     "text": [
      "Centroid grouped.\n",
      "[set([9, 18]), set([11, 13]), set([19]), set([6]), set([14]), set([12]), set([8]), set([15]), set([4]), set([16]), set([2]), set([0]), set([17]), set([7])]\n"
     ]
    }
   ],
   "source": [
    "centroid_group = []\n",
    "for slope in slope_groups:\n",
    "    c_tmp = []\n",
    "    for each in slope:\n",
    "        c = points_dict[each][3]\n",
    "        c_tmp.append(c)\n",
    "    c_tmp = np.array(c_tmp)\n",
    "    if len(c_tmp) > 1:\n",
    "        cluster_num = int(len(c_tmp)/2) ## This can be changed for better results\n",
    "    \n",
    "    #To calculate centroid for each group\n",
    "    centroid_centroids, _ = kmeans(c_tmp, cluster_num)\n",
    "    idx, _ = vq(c_tmp, centroid_centroids)\n",
    "    clusters = []\n",
    "    \n",
    "    #To find points within each cluster\n",
    "    for each in range(len(centroid_centroids)):\n",
    "        points = c_tmp[idx==each]\n",
    "        t = []\n",
    "        for p in points:\n",
    "            for d in points_dict:\n",
    "                if points_dict[d][3] == (p[0], p[1]):\n",
    "                    t.append(d)\n",
    "        centroid_group.append(set(t))\n",
    "print \"Centroid grouped.\"\n",
    "print centroid_group"
   ]
  },
  {
   "cell_type": "markdown",
   "metadata": {},
   "source": [
    "### 6- Within each group from step 5, calculate length of lines and cluster them based on defined threshold"
   ]
  },
  {
   "cell_type": "code",
   "execution_count": 18,
   "metadata": {
    "collapsed": false
   },
   "outputs": [
    {
     "name": "stdout",
     "output_type": "stream",
     "text": [
      "Length grouped.\n",
      "[set([9, 18]), set([11, 13]), set([19]), set([6]), set([14]), set([12]), set([8]), set([15]), set([4]), set([16]), set([2]), set([0]), set([17]), set([7])]\n"
     ]
    }
   ],
   "source": [
    "dist_group = []\n",
    "\n",
    "def distance_grouper(iterable):\n",
    "    '''\n",
    "    This function can cluster lines based on their lenth with in defined threshold.\n",
    "    '''\n",
    "    prev = None\n",
    "    group = []\n",
    "    threshold = 20\n",
    "    for item in iterable:\n",
    "        if not prev or item - prev <= threshold: ## This can be changed for better results\n",
    "            group.append(item)\n",
    "        else:\n",
    "            yield group\n",
    "            group = [item]\n",
    "        prev = item\n",
    "    if group:\n",
    "        yield group\n",
    "\n",
    "for centriod in centroid_group:\n",
    "    dist_tmp = []\n",
    "    for each in centriod:\n",
    "        dist = points_dict[each][4]\n",
    "        dist_tmp.append(dist)\n",
    "    distance_centroids = dict(enumerate(distance_grouper(sorted(dist_tmp)), 1))\n",
    "    for each in distance_centroids:\n",
    "        dist = distance_centroids[each]\n",
    "        t = []\n",
    "        for dis in dist:\n",
    "            for p in points_dict:\n",
    "                if points_dict[p][4] == dis:\n",
    "                    t.append(p)\n",
    "        dist_group.append(set(t))\n",
    "print \"Length grouped.\"\n",
    "print dist_group"
   ]
  },
  {
   "cell_type": "markdown",
   "metadata": {},
   "source": [
    "### 7- output resutls into a csv format that D3 visualization can support"
   ]
  },
  {
   "cell_type": "code",
   "execution_count": 22,
   "metadata": {
    "collapsed": false,
    "scrolled": true
   },
   "outputs": [
    {
     "name": "stdout",
     "output_type": "stream",
     "text": [
      "a0,50.0886111111,14.4213888889,50.0886111111,14.4213888889,phone_number\n",
      "a0,38.80472222,-76.484444,37.1503656667,-76.8770358333,phone_number\n",
      "a1,32.541675,-80.45125,30.3166666667,-81.65,phone_number\n",
      "a1,42.2458333333,-84.4013888889,32.2988888889,-90.1847222222,phone_number\n"
     ]
    }
   ],
   "source": [
    "c = 0\n",
    "for i, d in enumerate(dist_group):\n",
    "    #ignore cluster with only one line\n",
    "    if len(d) > 1:\n",
    "        c = c + 1\n",
    "        for each in d:\n",
    "            p = points_dict[each]\n",
    "            print \"a\" + str(i) + \",\" +  str(p[0][0])  + \",\" +  str(p[0][1])  + \",\" +  str(p[1][0])  + \",\" +  str(p[1][1]) + \",\" +  str(p[5])"
   ]
  },
  {
   "cell_type": "markdown",
   "metadata": {},
   "source": [
    "![title](https://github.com/memex-explorer/GeoPath-Clusetring/blob/master/Screen%20Shot%202016-08-15%20at%2010.05.05%20AM.png)"
   ]
  },
  {
   "cell_type": "markdown",
   "metadata": {},
   "source": [
    "![title](Screen Shot 2016-08-15 at 10.05.12 AM.png)"
   ]
  },
  {
   "cell_type": "markdown",
   "metadata": {},
   "source": [
    "![title](Screen Shot 2016-08-15 at 10.06.05 AM.png)"
   ]
  },
  {
   "cell_type": "code",
   "execution_count": null,
   "metadata": {
    "collapsed": true
   },
   "outputs": [],
   "source": []
  }
 ],
 "metadata": {
  "kernelspec": {
   "display_name": "Python 2",
   "language": "python",
   "name": "python2"
  },
  "language_info": {
   "codemirror_mode": {
    "name": "ipython",
    "version": 2
   },
   "file_extension": ".py",
   "mimetype": "text/x-python",
   "name": "python",
   "nbconvert_exporter": "python",
   "pygments_lexer": "ipython2",
   "version": "2.7.12"
  }
 },
 "nbformat": 4,
 "nbformat_minor": 0
}
